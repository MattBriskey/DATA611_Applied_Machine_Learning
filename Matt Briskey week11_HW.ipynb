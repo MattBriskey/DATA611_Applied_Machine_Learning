{
 "cells": [
  {
   "cell_type": "markdown",
   "id": "b1ec9f74",
   "metadata": {},
   "source": [
    "# Homework 11, Artificial Neural Networks\n",
    "# Matt Briskey"
   ]
  },
  {
   "cell_type": "markdown",
   "id": "cc87f06f",
   "metadata": {},
   "source": [
    "### 1. Why is it generally preferable to use a Logistic Regression classifier rather than a classical Perceptron (i.e., a single layer of threshold logic units trained using the Perceptron training algorithm)? How can you tweak a Perceptron to make it equivalent to a Logistic Regression classifier?"
   ]
  },
  {
   "cell_type": "markdown",
   "id": "12a5c8db",
   "metadata": {},
   "source": [
    "A classic perceptron has some limitations such as needing linearly seperable data to converge and only being able to compute binary outputs. The logistic regression classifier, however, is able to converge on non-linear data and outputs class probabilities (as opposed to binary outputs).\n",
    "\n",
    "If you wanted to tweak the Perceptron to make it like a logistic regression classifier you can do so by changing the activation function to the softmax or the sigmoid function and train it using gradient descent or some other optimization algorithm."
   ]
  },
  {
   "cell_type": "markdown",
   "id": "51e6488a",
   "metadata": {},
   "source": [
    "### 2. Can you list all the hyperparameters you can tweak in a basic MLP? If the MLP overfits the training data, how could you tweak these hyperparameters to try to solve the problem?"
   ]
  },
  {
   "cell_type": "markdown",
   "id": "66ee92ed",
   "metadata": {},
   "source": [
    "There are a few hyperparameters you can tweak in a basic MLP:\n",
    "1. The number of hidden layers\n",
    "2. The number of neurons in each hidden layer\n",
    "3. The activation function used\n",
    "\n",
    "To combat an MLP that overfits the training data, we could reduce the number of hidden layers or number of neurons in each layer."
   ]
  },
  {
   "cell_type": "markdown",
   "id": "5fc93074",
   "metadata": {},
   "source": [
    "### 3. Train a deep MLP on the MNIST dataset (you can load it using keras.datasets.mnist.load_data(). See what accuracy you can get. Try searching for the optimal learning rate. \n",
    "*The MNIST dataset is a set of 70,000 small images of digits handwritten (0-9) by high school students and employees of the US Census Bureau. Each image is labeled with the digit it represents. There are 70,000 images, and each image has 784 features. This is because each image is 28 × 28 pixels, and each feature simply represents one pixel’s intensity, from 0 (white) to 255 (black).*"
   ]
  },
  {
   "cell_type": "code",
   "execution_count": 1,
   "id": "12e129cb",
   "metadata": {},
   "outputs": [
    {
     "name": "stderr",
     "output_type": "stream",
     "text": [
      "C:\\Users\\16145\\anaconda3\\lib\\site-packages\\scipy\\__init__.py:146: UserWarning: A NumPy version >=1.16.5 and <1.23.0 is required for this version of SciPy (detected version 1.25.1\n",
      "  warnings.warn(f\"A NumPy version >={np_minversion} and <{np_maxversion}\"\n"
     ]
    }
   ],
   "source": [
    "import tensorflow as tf\n",
    "from tensorflow import keras\n"
   ]
  },
  {
   "cell_type": "code",
   "execution_count": 2,
   "id": "f1df4287",
   "metadata": {},
   "outputs": [
    {
     "data": {
      "text/plain": [
       "'2.13.0'"
      ]
     },
     "execution_count": 2,
     "metadata": {},
     "output_type": "execute_result"
    }
   ],
   "source": [
    "#show the version of TensorFlow\n",
    "tf.__version__"
   ]
  },
  {
   "cell_type": "code",
   "execution_count": 3,
   "id": "cc8c1556",
   "metadata": {},
   "outputs": [],
   "source": [
    "mnist = keras.datasets.mnist\n",
    "(X_train_full, y_train_full), (X_test, y_test) = mnist.load_data()"
   ]
  },
  {
   "cell_type": "code",
   "execution_count": 4,
   "id": "71abdc94",
   "metadata": {},
   "outputs": [
    {
     "data": {
      "text/plain": [
       "(60000, 28, 28)"
      ]
     },
     "execution_count": 4,
     "metadata": {},
     "output_type": "execute_result"
    }
   ],
   "source": [
    "X_train_full.shape"
   ]
  },
  {
   "cell_type": "code",
   "execution_count": 5,
   "id": "a4f2c192",
   "metadata": {},
   "outputs": [
    {
     "data": {
      "text/plain": [
       "dtype('uint8')"
      ]
     },
     "execution_count": 5,
     "metadata": {},
     "output_type": "execute_result"
    }
   ],
   "source": [
    "X_train_full.dtype"
   ]
  },
  {
   "cell_type": "code",
   "execution_count": 6,
   "id": "e71f0ba2",
   "metadata": {},
   "outputs": [
    {
     "data": {
      "text/plain": [
       "(0, 255)"
      ]
     },
     "execution_count": 6,
     "metadata": {},
     "output_type": "execute_result"
    }
   ],
   "source": [
    "# Look at the range of values in X\n",
    "X_train_full.min(), X_train_full.max()"
   ]
  },
  {
   "cell_type": "code",
   "execution_count": 7,
   "id": "1f1d1ccd",
   "metadata": {
    "scrolled": true
   },
   "outputs": [
    {
     "data": {
      "text/plain": [
       "array([[[0, 0, 0, ..., 0, 0, 0],\n",
       "        [0, 0, 0, ..., 0, 0, 0],\n",
       "        [0, 0, 0, ..., 0, 0, 0],\n",
       "        ...,\n",
       "        [0, 0, 0, ..., 0, 0, 0],\n",
       "        [0, 0, 0, ..., 0, 0, 0],\n",
       "        [0, 0, 0, ..., 0, 0, 0]],\n",
       "\n",
       "       [[0, 0, 0, ..., 0, 0, 0],\n",
       "        [0, 0, 0, ..., 0, 0, 0],\n",
       "        [0, 0, 0, ..., 0, 0, 0],\n",
       "        ...,\n",
       "        [0, 0, 0, ..., 0, 0, 0],\n",
       "        [0, 0, 0, ..., 0, 0, 0],\n",
       "        [0, 0, 0, ..., 0, 0, 0]],\n",
       "\n",
       "       [[0, 0, 0, ..., 0, 0, 0],\n",
       "        [0, 0, 0, ..., 0, 0, 0],\n",
       "        [0, 0, 0, ..., 0, 0, 0],\n",
       "        ...,\n",
       "        [0, 0, 0, ..., 0, 0, 0],\n",
       "        [0, 0, 0, ..., 0, 0, 0],\n",
       "        [0, 0, 0, ..., 0, 0, 0]],\n",
       "\n",
       "       ...,\n",
       "\n",
       "       [[0, 0, 0, ..., 0, 0, 0],\n",
       "        [0, 0, 0, ..., 0, 0, 0],\n",
       "        [0, 0, 0, ..., 0, 0, 0],\n",
       "        ...,\n",
       "        [0, 0, 0, ..., 0, 0, 0],\n",
       "        [0, 0, 0, ..., 0, 0, 0],\n",
       "        [0, 0, 0, ..., 0, 0, 0]],\n",
       "\n",
       "       [[0, 0, 0, ..., 0, 0, 0],\n",
       "        [0, 0, 0, ..., 0, 0, 0],\n",
       "        [0, 0, 0, ..., 0, 0, 0],\n",
       "        ...,\n",
       "        [0, 0, 0, ..., 0, 0, 0],\n",
       "        [0, 0, 0, ..., 0, 0, 0],\n",
       "        [0, 0, 0, ..., 0, 0, 0]],\n",
       "\n",
       "       [[0, 0, 0, ..., 0, 0, 0],\n",
       "        [0, 0, 0, ..., 0, 0, 0],\n",
       "        [0, 0, 0, ..., 0, 0, 0],\n",
       "        ...,\n",
       "        [0, 0, 0, ..., 0, 0, 0],\n",
       "        [0, 0, 0, ..., 0, 0, 0],\n",
       "        [0, 0, 0, ..., 0, 0, 0]]], dtype=uint8)"
      ]
     },
     "execution_count": 7,
     "metadata": {},
     "output_type": "execute_result"
    }
   ],
   "source": [
    "X_train_full"
   ]
  },
  {
   "cell_type": "code",
   "execution_count": 8,
   "id": "e5dfd17d",
   "metadata": {},
   "outputs": [],
   "source": [
    "# we pick 5000 samples for validation\n",
    "X_valid, X_train = X_train_full[:5000] / 255.0, X_train_full[5000:] / 255.0\n",
    "y_valid, y_train = y_train_full[:5000], y_train_full[5000:]"
   ]
  },
  {
   "cell_type": "code",
   "execution_count": 9,
   "id": "830bd0c9",
   "metadata": {},
   "outputs": [
    {
     "data": {
      "text/plain": [
       "<matplotlib.image.AxesImage at 0x2236f786ca0>"
      ]
     },
     "execution_count": 9,
     "metadata": {},
     "output_type": "execute_result"
    },
    {
     "data": {
      "image/png": "[encoded data removed]",
      "text/plain": [
       "<Figure size 640x480 with 1 Axes>"
      ]
     },
     "metadata": {},
     "output_type": "display_data"
    }
   ],
   "source": [
    "import matplotlib.pyplot as plt\n",
    "\n",
    "plt.imshow(X_train[1], cmap='Greys')"
   ]
  },
  {
   "cell_type": "code",
   "execution_count": 10,
   "id": "9011ef40",
   "metadata": {},
   "outputs": [],
   "source": [
    "class_names = [\"Zero\", \"One\", \"Two\", \"Three\", \"Four\",\n",
    "               \"Five\", \"Six\", \"Seven\", \"Eight\", \"Nine\"]"
   ]
  },
  {
   "cell_type": "code",
   "execution_count": 11,
   "id": "2977b6ee",
   "metadata": {},
   "outputs": [
    {
     "data": {
      "text/plain": [
       "'Three'"
      ]
     },
     "execution_count": 11,
     "metadata": {},
     "output_type": "execute_result"
    }
   ],
   "source": [
    "# let's check the class of the first training sample\n",
    "class_names[y_train[1]]"
   ]
  },
  {
   "cell_type": "code",
   "execution_count": 12,
   "id": "43f9622b",
   "metadata": {},
   "outputs": [
    {
     "data": {
      "text/plain": [
       "(55000, 28, 28)"
      ]
     },
     "execution_count": 12,
     "metadata": {},
     "output_type": "execute_result"
    }
   ],
   "source": [
    "X_train.shape"
   ]
  },
  {
   "cell_type": "code",
   "execution_count": 13,
   "id": "5df9e47b",
   "metadata": {},
   "outputs": [
    {
     "data": {
      "text/plain": [
       "array([[[0.        , 0.        , 0.        , 0.        , 0.        ,\n",
       "         0.        , 0.        , 0.        , 0.        , 0.        ,\n",
       "         0.        , 0.        , 0.        , 0.        , 0.        ,\n",
       "         0.        , 0.        , 0.        , 0.        , 0.        ,\n",
       "         0.        , 0.        , 0.        , 0.        , 0.        ,\n",
       "         0.        , 0.        , 0.        ],\n",
       "        [0.        , 0.        , 0.        , 0.        , 0.        ,\n",
       "         0.        , 0.        , 0.        , 0.        , 0.        ,\n",
       "         0.        , 0.        , 0.        , 0.        , 0.        ,\n",
       "         0.        , 0.        , 0.        , 0.        , 0.        ,\n",
       "         0.        , 0.        , 0.        , 0.        , 0.        ,\n",
       "         0.        , 0.        , 0.        ],\n",
       "        [0.        , 0.        , 0.        , 0.        , 0.        ,\n",
       "         0.        , 0.        , 0.        , 0.        , 0.        ,\n",
       "         0.        , 0.        , 0.        , 0.        , 0.        ,\n",
       "         0.        , 0.        , 0.        , 0.        , 0.        ,\n",
       "         0.        , 0.        , 0.        , 0.        , 0.        ,\n",
       "         0.        , 0.        , 0.        ],\n",
       "        [0.        , 0.        , 0.        , 0.        , 0.        ,\n",
       "         0.        , 0.        , 0.        , 0.        , 0.        ,\n",
       "         0.        , 0.        , 0.        , 0.        , 0.        ,\n",
       "         0.        , 0.        , 0.        , 0.        , 0.        ,\n",
       "         0.        , 0.        , 0.        , 0.        , 0.        ,\n",
       "         0.        , 0.        , 0.        ],\n",
       "        [0.        , 0.        , 0.        , 0.        , 0.        ,\n",
       "         0.        , 0.        , 0.        , 0.        , 0.        ,\n",
       "         0.        , 0.        , 0.        , 0.        , 0.        ,\n",
       "         0.        , 0.        , 0.        , 0.        , 0.        ,\n",
       "         0.        , 0.        , 0.        , 0.        , 0.        ,\n",
       "         0.        , 0.        , 0.        ],\n",
       "        [0.        , 0.        , 0.        , 0.        , 0.        ,\n",
       "         0.        , 0.        , 0.        , 0.        , 0.        ,\n",
       "         0.        , 0.        , 0.        , 0.        , 0.        ,\n",
       "         0.        , 0.        , 0.        , 0.        , 0.        ,\n",
       "         0.        , 0.        , 0.        , 0.        , 0.        ,\n",
       "         0.        , 0.        , 0.        ],\n",
       "        [0.        , 0.        , 0.        , 0.        , 0.        ,\n",
       "         0.        , 0.        , 0.        , 0.        , 0.        ,\n",
       "         0.        , 0.        , 0.        , 0.        , 0.        ,\n",
       "         0.        , 0.        , 0.        , 0.        , 0.        ,\n",
       "         0.        , 0.        , 0.        , 0.        , 0.        ,\n",
       "         0.        , 0.        , 0.        ],\n",
       "        [0.        , 0.        , 0.        , 0.        , 0.        ,\n",
       "         0.        , 0.        , 0.        , 0.        , 0.        ,\n",
       "         0.        , 0.38039216, 0.37647059, 0.30196078, 0.4627451 ,\n",
       "         0.23921569, 0.        , 0.        , 0.        , 0.        ,\n",
       "         0.        , 0.        , 0.        , 0.        , 0.        ,\n",
       "         0.        , 0.        , 0.        ],\n",
       "        [0.        , 0.        , 0.        , 0.35294118, 0.54117647,\n",
       "         0.92156863, 0.92156863, 0.92156863, 0.92156863, 0.92156863,\n",
       "         0.92156863, 0.98431373, 0.98431373, 0.97254902, 0.99607843,\n",
       "         0.96078431, 0.92156863, 0.74509804, 0.08235294, 0.        ,\n",
       "         0.        , 0.        , 0.        , 0.        , 0.        ,\n",
       "         0.        , 0.        , 0.        ],\n",
       "        [0.        , 0.        , 0.54901961, 0.98431373, 0.99607843,\n",
       "         0.99607843, 0.99607843, 0.99607843, 0.99607843, 0.99607843,\n",
       "         0.99607843, 0.99607843, 0.99607843, 0.99607843, 0.99607843,\n",
       "         0.99607843, 0.99607843, 0.99607843, 0.74117647, 0.09019608,\n",
       "         0.        , 0.        , 0.        , 0.        , 0.        ,\n",
       "         0.        , 0.        , 0.        ],\n",
       "        [0.        , 0.        , 0.88627451, 0.99607843, 0.81568627,\n",
       "         0.78039216, 0.78039216, 0.78039216, 0.78039216, 0.54509804,\n",
       "         0.23921569, 0.23921569, 0.23921569, 0.23921569, 0.23921569,\n",
       "         0.50196078, 0.87058824, 0.99607843, 0.99607843, 0.74117647,\n",
       "         0.08235294, 0.        , 0.        , 0.        , 0.        ,\n",
       "         0.        , 0.        , 0.        ],\n",
       "        [0.        , 0.        , 0.14901961, 0.32156863, 0.05098039,\n",
       "         0.        , 0.        , 0.        , 0.        , 0.        ,\n",
       "         0.        , 0.        , 0.        , 0.        , 0.        ,\n",
       "         0.        , 0.13333333, 0.83529412, 0.99607843, 0.99607843,\n",
       "         0.45098039, 0.        , 0.        , 0.        , 0.        ,\n",
       "         0.        , 0.        , 0.        ],\n",
       "        [0.        , 0.        , 0.        , 0.        , 0.        ,\n",
       "         0.        , 0.        , 0.        , 0.        , 0.        ,\n",
       "         0.        , 0.        , 0.        , 0.        , 0.        ,\n",
       "         0.        , 0.        , 0.32941176, 0.99607843, 0.99607843,\n",
       "         0.91764706, 0.        , 0.        , 0.        , 0.        ,\n",
       "         0.        , 0.        , 0.        ],\n",
       "        [0.        , 0.        , 0.        , 0.        , 0.        ,\n",
       "         0.        , 0.        , 0.        , 0.        , 0.        ,\n",
       "         0.        , 0.        , 0.        , 0.        , 0.        ,\n",
       "         0.        , 0.        , 0.32941176, 0.99607843, 0.99607843,\n",
       "         0.91764706, 0.        , 0.        , 0.        , 0.        ,\n",
       "         0.        , 0.        , 0.        ],\n",
       "        [0.        , 0.        , 0.        , 0.        , 0.        ,\n",
       "         0.        , 0.        , 0.        , 0.        , 0.        ,\n",
       "         0.        , 0.        , 0.        , 0.        , 0.        ,\n",
       "         0.        , 0.41568627, 0.61568627, 0.99607843, 0.99607843,\n",
       "         0.95294118, 0.2       , 0.        , 0.        , 0.        ,\n",
       "         0.        , 0.        , 0.        ],\n",
       "        [0.        , 0.        , 0.        , 0.        , 0.        ,\n",
       "         0.        , 0.        , 0.        , 0.        , 0.        ,\n",
       "         0.        , 0.09803922, 0.45882353, 0.89411765, 0.89411765,\n",
       "         0.89411765, 0.99215686, 0.99607843, 0.99607843, 0.99607843,\n",
       "         0.99607843, 0.94117647, 0.        , 0.        , 0.        ,\n",
       "         0.        , 0.        , 0.        ],\n",
       "        [0.        , 0.        , 0.        , 0.        , 0.        ,\n",
       "         0.        , 0.        , 0.        , 0.        , 0.26666667,\n",
       "         0.46666667, 0.8627451 , 0.99607843, 0.99607843, 0.99607843,\n",
       "         0.99607843, 0.99607843, 0.99607843, 0.99607843, 0.99607843,\n",
       "         0.99607843, 0.55686275, 0.        , 0.        , 0.        ,\n",
       "         0.        , 0.        , 0.        ],\n",
       "        [0.        , 0.        , 0.        , 0.        , 0.        ,\n",
       "         0.        , 0.        , 0.14509804, 0.73333333, 0.99215686,\n",
       "         0.99607843, 0.99607843, 0.99607843, 0.8745098 , 0.80784314,\n",
       "         0.80784314, 0.29411765, 0.26666667, 0.84313725, 0.99607843,\n",
       "         0.99607843, 0.45882353, 0.        , 0.        , 0.        ,\n",
       "         0.        , 0.        , 0.        ],\n",
       "        [0.        , 0.        , 0.        , 0.        , 0.        ,\n",
       "         0.        , 0.44313725, 0.85882353, 0.99607843, 0.94901961,\n",
       "         0.89019608, 0.45098039, 0.34901961, 0.12156863, 0.        ,\n",
       "         0.        , 0.        , 0.        , 0.78431373, 0.99607843,\n",
       "         0.94509804, 0.16078431, 0.        , 0.        , 0.        ,\n",
       "         0.        , 0.        , 0.        ],\n",
       "        [0.        , 0.        , 0.        , 0.        , 0.        ,\n",
       "         0.        , 0.6627451 , 0.99607843, 0.69019608, 0.24313725,\n",
       "         0.        , 0.        , 0.        , 0.        , 0.        ,\n",
       "         0.        , 0.        , 0.18823529, 0.90588235, 0.99607843,\n",
       "         0.91764706, 0.        , 0.        , 0.        , 0.        ,\n",
       "         0.        , 0.        , 0.        ],\n",
       "        [0.        , 0.        , 0.        , 0.        , 0.        ,\n",
       "         0.        , 0.07058824, 0.48627451, 0.        , 0.        ,\n",
       "         0.        , 0.        , 0.        , 0.        , 0.        ,\n",
       "         0.        , 0.        , 0.32941176, 0.99607843, 0.99607843,\n",
       "         0.65098039, 0.        , 0.        , 0.        , 0.        ,\n",
       "         0.        , 0.        , 0.        ],\n",
       "        [0.        , 0.        , 0.        , 0.        , 0.        ,\n",
       "         0.        , 0.        , 0.        , 0.        , 0.        ,\n",
       "         0.        , 0.        , 0.        , 0.        , 0.        ,\n",
       "         0.        , 0.        , 0.54509804, 0.99607843, 0.93333333,\n",
       "         0.22352941, 0.        , 0.        , 0.        , 0.        ,\n",
       "         0.        , 0.        , 0.        ],\n",
       "        [0.        , 0.        , 0.        , 0.        , 0.        ,\n",
       "         0.        , 0.        , 0.        , 0.        , 0.        ,\n",
       "         0.        , 0.        , 0.        , 0.        , 0.        ,\n",
       "         0.        , 0.82352941, 0.98039216, 0.99607843, 0.65882353,\n",
       "         0.        , 0.        , 0.        , 0.        , 0.        ,\n",
       "         0.        , 0.        , 0.        ],\n",
       "        [0.        , 0.        , 0.        , 0.        , 0.        ,\n",
       "         0.        , 0.        , 0.        , 0.        , 0.        ,\n",
       "         0.        , 0.        , 0.        , 0.        , 0.        ,\n",
       "         0.        , 0.94901961, 0.99607843, 0.9372549 , 0.22352941,\n",
       "         0.        , 0.        , 0.        , 0.        , 0.        ,\n",
       "         0.        , 0.        , 0.        ],\n",
       "        [0.        , 0.        , 0.        , 0.        , 0.        ,\n",
       "         0.        , 0.        , 0.        , 0.        , 0.        ,\n",
       "         0.        , 0.        , 0.        , 0.        , 0.        ,\n",
       "         0.34901961, 0.98431373, 0.94509804, 0.3372549 , 0.        ,\n",
       "         0.        , 0.        , 0.        , 0.        , 0.        ,\n",
       "         0.        , 0.        , 0.        ],\n",
       "        [0.        , 0.        , 0.        , 0.        , 0.        ,\n",
       "         0.        , 0.        , 0.        , 0.        , 0.        ,\n",
       "         0.        , 0.        , 0.        , 0.        , 0.01960784,\n",
       "         0.80784314, 0.96470588, 0.61568627, 0.        , 0.        ,\n",
       "         0.        , 0.        , 0.        , 0.        , 0.        ,\n",
       "         0.        , 0.        , 0.        ],\n",
       "        [0.        , 0.        , 0.        , 0.        , 0.        ,\n",
       "         0.        , 0.        , 0.        , 0.        , 0.        ,\n",
       "         0.        , 0.        , 0.        , 0.        , 0.01568627,\n",
       "         0.45882353, 0.27058824, 0.        , 0.        , 0.        ,\n",
       "         0.        , 0.        , 0.        , 0.        , 0.        ,\n",
       "         0.        , 0.        , 0.        ],\n",
       "        [0.        , 0.        , 0.        , 0.        , 0.        ,\n",
       "         0.        , 0.        , 0.        , 0.        , 0.        ,\n",
       "         0.        , 0.        , 0.        , 0.        , 0.        ,\n",
       "         0.        , 0.        , 0.        , 0.        , 0.        ,\n",
       "         0.        , 0.        , 0.        , 0.        , 0.        ,\n",
       "         0.        , 0.        , 0.        ]]])"
      ]
     },
     "execution_count": 13,
     "metadata": {},
     "output_type": "execute_result"
    }
   ],
   "source": [
    "X_train[:1]"
   ]
  },
  {
   "cell_type": "code",
   "execution_count": 14,
   "id": "1c84479b",
   "metadata": {},
   "outputs": [
    {
     "data": {
      "text/plain": [
       "<tf.Tensor: shape=(1, 10), dtype=float32, numpy=\n",
       "array([[0.05331184, 0.15140143, 0.06634748, 0.15426573, 0.13551839,\n",
       "        0.1090892 , 0.09721219, 0.10613447, 0.04578791, 0.08093134]],\n",
       "      dtype=float32)>"
      ]
     },
     "execution_count": 14,
     "metadata": {},
     "output_type": "execute_result"
    }
   ],
   "source": [
    "# Create Kerar Model object to which we will add the layers\n",
    "model = keras.models.Sequential()\n",
    "\n",
    "# Input Layer\n",
    "model.add(keras.layers.Flatten(input_shape=[28, 28]))\n",
    "\n",
    "# Hidden Layers\n",
    "model.add(keras.layers.Dense(300, activation=\"sigmoid\"))\n",
    "model.add(keras.layers.Dense(10, activation=\"sigmoid\"))\n",
    "\n",
    "# Output Layer\n",
    "model.add(keras.layers.Dense(len(class_names), activation=\"softmax\"))\n",
    "\n",
    "\n",
    "model(X_train[:1])"
   ]
  },
  {
   "cell_type": "code",
   "execution_count": 15,
   "id": "31372119",
   "metadata": {},
   "outputs": [
    {
     "name": "stdout",
     "output_type": "stream",
     "text": [
      "Model: \"sequential\"\n",
      "_________________________________________________________________\n",
      " Layer (type)                Output Shape              Param #   \n",
      "=================================================================\n",
      " flatten (Flatten)           (None, 784)               0         \n",
      "                                                                 \n",
      " dense (Dense)               (None, 300)               235500    \n",
      "                                                                 \n",
      " dense_1 (Dense)             (None, 10)                3010      \n",
      "                                                                 \n",
      " dense_2 (Dense)             (None, 10)                110       \n",
      "                                                                 \n",
      "=================================================================\n",
      "Total params: 238,620\n",
      "Trainable params: 238,620\n",
      "Non-trainable params: 0\n",
      "_________________________________________________________________\n"
     ]
    }
   ],
   "source": [
    "# displays all the model’s layers\n",
    "model.summary()"
   ]
  },
  {
   "cell_type": "code",
   "execution_count": 16,
   "id": "85140675",
   "metadata": {},
   "outputs": [
    {
     "data": {
      "text/plain": [
       "array([7, 3, 4, ..., 5, 6, 8], dtype=uint8)"
      ]
     },
     "execution_count": 16,
     "metadata": {},
     "output_type": "execute_result"
    }
   ],
   "source": [
    "y_train"
   ]
  },
  {
   "cell_type": "code",
   "execution_count": 17,
   "id": "eb57767f",
   "metadata": {},
   "outputs": [],
   "source": [
    "model.compile(loss=\"sparse_categorical_crossentropy\",\n",
    "              optimizer=\"sgd\",\n",
    "              metrics=[\"accuracy\"])"
   ]
  },
  {
   "cell_type": "code",
   "execution_count": 18,
   "id": "8e8cf777",
   "metadata": {},
   "outputs": [
    {
     "data": {
      "text/plain": [
       "array([[0.05331184, 0.15140145, 0.06634748, 0.15426573, 0.1355184 ,\n",
       "        0.1090892 , 0.09721221, 0.10613447, 0.04578791, 0.08093134],\n",
       "       [0.05399775, 0.14695753, 0.06965683, 0.15827909, 0.13038895,\n",
       "        0.11105763, 0.0934393 , 0.10533876, 0.04733537, 0.08354886]],\n",
       "      dtype=float32)"
      ]
     },
     "execution_count": 18,
     "metadata": {},
     "output_type": "execute_result"
    }
   ],
   "source": [
    "model(X_train[:2]).numpy()"
   ]
  },
  {
   "cell_type": "code",
   "execution_count": 19,
   "id": "44ebe661",
   "metadata": {},
   "outputs": [],
   "source": [
    "from keras.callbacks import EarlyStopping"
   ]
  },
  {
   "cell_type": "code",
   "execution_count": 20,
   "id": "0873801d",
   "metadata": {},
   "outputs": [
    {
     "name": "stdout",
     "output_type": "stream",
     "text": [
      "Epoch 1/20\n",
      "1719/1719 [==============================] - 2s 1ms/step - loss: 2.2136 - accuracy: 0.2673 - val_loss: 2.0680 - val_accuracy: 0.4948\n",
      "Epoch 2/20\n",
      "1719/1719 [==============================] - 2s 1ms/step - loss: 1.8538 - accuracy: 0.5206 - val_loss: 1.6180 - val_accuracy: 0.5740\n",
      "Epoch 3/20\n",
      "1719/1719 [==============================] - 2s 1ms/step - loss: 1.4555 - accuracy: 0.5917 - val_loss: 1.2981 - val_accuracy: 0.6220\n",
      "Epoch 4/20\n",
      "1719/1719 [==============================] - 3s 1ms/step - loss: 1.2011 - accuracy: 0.6546 - val_loss: 1.0930 - val_accuracy: 0.6920\n",
      "Epoch 5/20\n",
      "1719/1719 [==============================] - 2s 1ms/step - loss: 1.0269 - accuracy: 0.7218 - val_loss: 0.9424 - val_accuracy: 0.7656\n",
      "Epoch 6/20\n",
      "1719/1719 [==============================] - 2s 1ms/step - loss: 0.8944 - accuracy: 0.7767 - val_loss: 0.8239 - val_accuracy: 0.8000\n",
      "Epoch 7/20\n",
      "1719/1719 [==============================] - 2s 1ms/step - loss: 0.7911 - accuracy: 0.8094 - val_loss: 0.7313 - val_accuracy: 0.8268\n",
      "Epoch 8/20\n",
      "1719/1719 [==============================] - 2s 1ms/step - loss: 0.7119 - accuracy: 0.8271 - val_loss: 0.6628 - val_accuracy: 0.8432\n",
      "Epoch 9/20\n",
      "1719/1719 [==============================] - 2s 1ms/step - loss: 0.6509 - accuracy: 0.8381 - val_loss: 0.6068 - val_accuracy: 0.8518\n",
      "Epoch 10/20\n",
      "1719/1719 [==============================] - 2s 1ms/step - loss: 0.6030 - accuracy: 0.8477 - val_loss: 0.5642 - val_accuracy: 0.8632\n",
      "Epoch 11/20\n",
      "1719/1719 [==============================] - 2s 1ms/step - loss: 0.5637 - accuracy: 0.8549 - val_loss: 0.5290 - val_accuracy: 0.8676\n",
      "Epoch 12/20\n",
      "1719/1719 [==============================] - 2s 1ms/step - loss: 0.5309 - accuracy: 0.8624 - val_loss: 0.4989 - val_accuracy: 0.8764\n",
      "Epoch 13/20\n",
      "1719/1719 [==============================] - 2s 1ms/step - loss: 0.5034 - accuracy: 0.8692 - val_loss: 0.4740 - val_accuracy: 0.8808\n",
      "Epoch 14/20\n",
      "1719/1719 [==============================] - 2s 1ms/step - loss: 0.4799 - accuracy: 0.8741 - val_loss: 0.4531 - val_accuracy: 0.8824\n",
      "Epoch 15/20\n",
      "1719/1719 [==============================] - 2s 1ms/step - loss: 0.4597 - accuracy: 0.8783 - val_loss: 0.4350 - val_accuracy: 0.8866\n",
      "Epoch 16/20\n",
      "1719/1719 [==============================] - 2s 1ms/step - loss: 0.4426 - accuracy: 0.8822 - val_loss: 0.4207 - val_accuracy: 0.8896\n",
      "Epoch 17/20\n",
      "1719/1719 [==============================] - 2s 1ms/step - loss: 0.4277 - accuracy: 0.8852 - val_loss: 0.4073 - val_accuracy: 0.8936\n",
      "Epoch 18/20\n",
      "1719/1719 [==============================] - 2s 1ms/step - loss: 0.4148 - accuracy: 0.8881 - val_loss: 0.3955 - val_accuracy: 0.8956\n",
      "Epoch 19/20\n",
      "1719/1719 [==============================] - 2s 1ms/step - loss: 0.4033 - accuracy: 0.8905 - val_loss: 0.3852 - val_accuracy: 0.8968\n",
      "Epoch 20/20\n",
      "1719/1719 [==============================] - 2s 1ms/step - loss: 0.3931 - accuracy: 0.8933 - val_loss: 0.3770 - val_accuracy: 0.9002\n"
     ]
    }
   ],
   "source": [
    "history = model.fit(X_train, y_train,\n",
    "                    epochs=20,\n",
    "                    validation_data=(X_valid, y_valid),\n",
    "                    )"
   ]
  },
  {
   "cell_type": "code",
   "execution_count": 21,
   "id": "efef1998",
   "metadata": {},
   "outputs": [
    {
     "data": {
      "text/html": [
       "<div>\n",
       "<style scoped>\n",
       "    .dataframe tbody tr th:only-of-type {\n",
       "        vertical-align: middle;\n",
       "    }\n",
       "\n",
       "    .dataframe tbody tr th {\n",
       "        vertical-align: top;\n",
       "    }\n",
       "\n",
       "    .dataframe thead th {\n",
       "        text-align: right;\n",
       "    }\n",
       "</style>\n",
       "<table border=\"1\" class=\"dataframe\">\n",
       "  <thead>\n",
       "    <tr style=\"text-align: right;\">\n",
       "      <th></th>\n",
       "      <th>loss</th>\n",
       "      <th>accuracy</th>\n",
       "      <th>val_loss</th>\n",
       "      <th>val_accuracy</th>\n",
       "    </tr>\n",
       "  </thead>\n",
       "  <tbody>\n",
       "    <tr>\n",
       "      <th>0</th>\n",
       "      <td>2.213574</td>\n",
       "      <td>0.267309</td>\n",
       "      <td>2.067996</td>\n",
       "      <td>0.4948</td>\n",
       "    </tr>\n",
       "    <tr>\n",
       "      <th>1</th>\n",
       "      <td>1.853781</td>\n",
       "      <td>0.520636</td>\n",
       "      <td>1.618043</td>\n",
       "      <td>0.5740</td>\n",
       "    </tr>\n",
       "    <tr>\n",
       "      <th>2</th>\n",
       "      <td>1.455528</td>\n",
       "      <td>0.591709</td>\n",
       "      <td>1.298052</td>\n",
       "      <td>0.6220</td>\n",
       "    </tr>\n",
       "    <tr>\n",
       "      <th>3</th>\n",
       "      <td>1.201136</td>\n",
       "      <td>0.654618</td>\n",
       "      <td>1.092952</td>\n",
       "      <td>0.6920</td>\n",
       "    </tr>\n",
       "    <tr>\n",
       "      <th>4</th>\n",
       "      <td>1.026862</td>\n",
       "      <td>0.721782</td>\n",
       "      <td>0.942421</td>\n",
       "      <td>0.7656</td>\n",
       "    </tr>\n",
       "    <tr>\n",
       "      <th>5</th>\n",
       "      <td>0.894357</td>\n",
       "      <td>0.776709</td>\n",
       "      <td>0.823857</td>\n",
       "      <td>0.8000</td>\n",
       "    </tr>\n",
       "    <tr>\n",
       "      <th>6</th>\n",
       "      <td>0.791075</td>\n",
       "      <td>0.809382</td>\n",
       "      <td>0.731315</td>\n",
       "      <td>0.8268</td>\n",
       "    </tr>\n",
       "    <tr>\n",
       "      <th>7</th>\n",
       "      <td>0.711877</td>\n",
       "      <td>0.827127</td>\n",
       "      <td>0.662799</td>\n",
       "      <td>0.8432</td>\n",
       "    </tr>\n",
       "    <tr>\n",
       "      <th>8</th>\n",
       "      <td>0.650926</td>\n",
       "      <td>0.838109</td>\n",
       "      <td>0.606764</td>\n",
       "      <td>0.8518</td>\n",
       "    </tr>\n",
       "    <tr>\n",
       "      <th>9</th>\n",
       "      <td>0.602964</td>\n",
       "      <td>0.847673</td>\n",
       "      <td>0.564247</td>\n",
       "      <td>0.8632</td>\n",
       "    </tr>\n",
       "    <tr>\n",
       "      <th>10</th>\n",
       "      <td>0.563743</td>\n",
       "      <td>0.854873</td>\n",
       "      <td>0.529000</td>\n",
       "      <td>0.8676</td>\n",
       "    </tr>\n",
       "    <tr>\n",
       "      <th>11</th>\n",
       "      <td>0.530878</td>\n",
       "      <td>0.862382</td>\n",
       "      <td>0.498852</td>\n",
       "      <td>0.8764</td>\n",
       "    </tr>\n",
       "    <tr>\n",
       "      <th>12</th>\n",
       "      <td>0.503364</td>\n",
       "      <td>0.869182</td>\n",
       "      <td>0.474023</td>\n",
       "      <td>0.8808</td>\n",
       "    </tr>\n",
       "    <tr>\n",
       "      <th>13</th>\n",
       "      <td>0.479881</td>\n",
       "      <td>0.874073</td>\n",
       "      <td>0.453061</td>\n",
       "      <td>0.8824</td>\n",
       "    </tr>\n",
       "    <tr>\n",
       "      <th>14</th>\n",
       "      <td>0.459734</td>\n",
       "      <td>0.878255</td>\n",
       "      <td>0.434984</td>\n",
       "      <td>0.8866</td>\n",
       "    </tr>\n",
       "    <tr>\n",
       "      <th>15</th>\n",
       "      <td>0.442584</td>\n",
       "      <td>0.882182</td>\n",
       "      <td>0.420650</td>\n",
       "      <td>0.8896</td>\n",
       "    </tr>\n",
       "    <tr>\n",
       "      <th>16</th>\n",
       "      <td>0.427718</td>\n",
       "      <td>0.885236</td>\n",
       "      <td>0.407267</td>\n",
       "      <td>0.8936</td>\n",
       "    </tr>\n",
       "    <tr>\n",
       "      <th>17</th>\n",
       "      <td>0.414790</td>\n",
       "      <td>0.888091</td>\n",
       "      <td>0.395550</td>\n",
       "      <td>0.8956</td>\n",
       "    </tr>\n",
       "    <tr>\n",
       "      <th>18</th>\n",
       "      <td>0.403315</td>\n",
       "      <td>0.890527</td>\n",
       "      <td>0.385200</td>\n",
       "      <td>0.8968</td>\n",
       "    </tr>\n",
       "    <tr>\n",
       "      <th>19</th>\n",
       "      <td>0.393085</td>\n",
       "      <td>0.893255</td>\n",
       "      <td>0.376967</td>\n",
       "      <td>0.9002</td>\n",
       "    </tr>\n",
       "  </tbody>\n",
       "</table>\n",
       "</div>"
      ],
      "text/plain": [
       "        loss  accuracy  val_loss  val_accuracy\n",
       "0   2.213574  0.267309  2.067996        0.4948\n",
       "1   1.853781  0.520636  1.618043        0.5740\n",
       "2   1.455528  0.591709  1.298052        0.6220\n",
       "3   1.201136  0.654618  1.092952        0.6920\n",
       "4   1.026862  0.721782  0.942421        0.7656\n",
       "5   0.894357  0.776709  0.823857        0.8000\n",
       "6   0.791075  0.809382  0.731315        0.8268\n",
       "7   0.711877  0.827127  0.662799        0.8432\n",
       "8   0.650926  0.838109  0.606764        0.8518\n",
       "9   0.602964  0.847673  0.564247        0.8632\n",
       "10  0.563743  0.854873  0.529000        0.8676\n",
       "11  0.530878  0.862382  0.498852        0.8764\n",
       "12  0.503364  0.869182  0.474023        0.8808\n",
       "13  0.479881  0.874073  0.453061        0.8824\n",
       "14  0.459734  0.878255  0.434984        0.8866\n",
       "15  0.442584  0.882182  0.420650        0.8896\n",
       "16  0.427718  0.885236  0.407267        0.8936\n",
       "17  0.414790  0.888091  0.395550        0.8956\n",
       "18  0.403315  0.890527  0.385200        0.8968\n",
       "19  0.393085  0.893255  0.376967        0.9002"
      ]
     },
     "execution_count": 21,
     "metadata": {},
     "output_type": "execute_result"
    }
   ],
   "source": [
    "import pandas as pd\n",
    "df = pd.DataFrame(history.history)\n",
    "df"
   ]
  },
  {
   "cell_type": "code",
   "execution_count": 22,
   "id": "00821945",
   "metadata": {},
   "outputs": [
    {
     "data": {
      "text/plain": [
       "<AxesSubplot:>"
      ]
     },
     "execution_count": 22,
     "metadata": {},
     "output_type": "execute_result"
    },
    {
     "data": {
      "image/png": "[encoded data removed]",
      "text/plain": [
       "<Figure size 640x480 with 1 Axes>"
      ]
     },
     "metadata": {},
     "output_type": "display_data"
    }
   ],
   "source": [
    "df.plot()"
   ]
  },
  {
   "cell_type": "code",
   "execution_count": 23,
   "id": "2ec6f437",
   "metadata": {},
   "outputs": [],
   "source": [
    "import numpy as np"
   ]
  },
  {
   "cell_type": "code",
   "execution_count": 24,
   "id": "42c85df9",
   "metadata": {},
   "outputs": [
    {
     "data": {
      "text/plain": [
       "array([[5.0358218e-04, 1.2219236e-01, 1.3406384e-01, 2.5081184e-02,\n",
       "        6.2558949e-03, 6.1096228e-04, 7.8248553e-04, 6.0803592e-01,\n",
       "        9.8965690e-03, 9.2577145e-02]], dtype=float32)"
      ]
     },
     "execution_count": 24,
     "metadata": {},
     "output_type": "execute_result"
    }
   ],
   "source": [
    "model(X_train[:1]).numpy()"
   ]
  },
  {
   "cell_type": "code",
   "execution_count": 25,
   "id": "29fbfcd3",
   "metadata": {},
   "outputs": [
    {
     "name": "stdout",
     "output_type": "stream",
     "text": [
      "1/1 [==============================] - 0s 60ms/step\n"
     ]
    },
    {
     "data": {
      "text/plain": [
       "array([3, 2, 1, 7, 6, 3, 8, 0, 9, 7], dtype=int64)"
      ]
     },
     "execution_count": 25,
     "metadata": {},
     "output_type": "execute_result"
    }
   ],
   "source": [
    "# make prediction\n",
    "X_new = X_test[:10]\n",
    "y_pred_prob = model.predict(X_new)\n",
    "y_pred = np.argmax(y_pred_prob, axis=0)\n",
    "#y_pred = model.predict(X_new)\n",
    "y_pred"
   ]
  },
  {
   "cell_type": "code",
   "execution_count": 26,
   "id": "4c53db46",
   "metadata": {},
   "outputs": [
    {
     "data": {
      "text/plain": [
       "array(['Three', 'Two', 'One', 'Seven', 'Six', 'Three', 'Eight', 'Zero',\n",
       "       'Nine', 'Seven'], dtype='<U5')"
      ]
     },
     "execution_count": 26,
     "metadata": {},
     "output_type": "execute_result"
    }
   ],
   "source": [
    "import numpy as np\n",
    "\n",
    "np.array(class_names)[y_pred]"
   ]
  },
  {
   "cell_type": "code",
   "execution_count": 27,
   "id": "27fe50ea",
   "metadata": {},
   "outputs": [
    {
     "data": {
      "text/plain": [
       "array(['Seven', 'Two', 'One', 'Zero', 'Four', 'One', 'Four', 'Nine',\n",
       "       'Five', 'Nine'], dtype='<U5')"
      ]
     },
     "execution_count": 27,
     "metadata": {},
     "output_type": "execute_result"
    }
   ],
   "source": [
    "# check the labels\n",
    "y_new = y_test[:10]\n",
    "np.array(class_names)[y_new]"
   ]
  },
  {
   "cell_type": "code",
   "execution_count": 28,
   "id": "0ff400b7",
   "metadata": {},
   "outputs": [
    {
     "data": {
      "text/plain": [
       "array([3, 2, 1, 7, 6, 3, 8, 0, 9, 7], dtype=int64)"
      ]
     },
     "execution_count": 28,
     "metadata": {},
     "output_type": "execute_result"
    }
   ],
   "source": [
    "y_pred"
   ]
  },
  {
   "cell_type": "code",
   "execution_count": 29,
   "id": "041e1589",
   "metadata": {},
   "outputs": [
    {
     "name": "stdout",
     "output_type": "stream",
     "text": [
      "True class: Two\n",
      "Predicted class: Two\n",
      "Certianty: 0.96719325\n"
     ]
    },
    {
     "data": {
      "text/plain": [
       "<matplotlib.image.AxesImage at 0x2237eb32e50>"
      ]
     },
     "execution_count": 29,
     "metadata": {},
     "output_type": "execute_result"
    },
    {
     "data": {
      "image/png": "[encoded data removed]",
      "text/plain": [
       "<Figure size 640x480 with 1 Axes>"
      ]
     },
     "metadata": {},
     "output_type": "display_data"
    }
   ],
   "source": [
    "i = 1\n",
    "\n",
    "print('True class:', class_names[y_test[i]])\n",
    "print('Predicted class:', class_names[y_pred[i]])\n",
    "print('Certianty:', y_pred_prob[i].max())\n",
    "\n",
    "plt.imshow(X_test[i], cmap='Greys')"
   ]
  },
  {
   "cell_type": "code",
   "execution_count": 30,
   "id": "0077b2c9",
   "metadata": {},
   "outputs": [],
   "source": [
    "from keras.wrappers.scikit_learn import KerasClassifier\n",
    "from sklearn.model_selection import ParameterGrid"
   ]
  },
  {
   "cell_type": "code",
   "execution_count": 31,
   "id": "0927b2c4",
   "metadata": {},
   "outputs": [
    {
     "name": "stdout",
     "output_type": "stream",
     "text": [
      "{'layers': [10], 'optimizer': 'sgd'}\n",
      "Training...\n",
      "Epoch 2: early stopping\n",
      "Val Loss: 0.3439958095550537\n",
      "Val Acc:  0.9071999788284302\n",
      "{'layers': [10], 'optimizer': 'adam'}\n",
      "Training...\n",
      "Epoch 2: early stopping\n",
      "Val Loss: 0.30821558833122253\n",
      "Val Acc:  0.9175999760627747\n",
      "{'layers': [20], 'optimizer': 'sgd'}\n",
      "Training...\n",
      "Epoch 2: early stopping\n",
      "Val Loss: 0.32407432794570923\n",
      "Val Acc:  0.9103999733924866\n",
      "{'layers': [20], 'optimizer': 'adam'}\n",
      "Training...\n",
      "Epoch 2: early stopping\n",
      "Val Loss: 0.2172568142414093\n",
      "Val Acc:  0.9377999901771545\n",
      "{'layers': [300, 10], 'optimizer': 'sgd'}\n",
      "Training...\n",
      "Epoch 2: early stopping\n",
      "Val Loss: 0.27835339307785034\n",
      "Val Acc:  0.9241999983787537\n",
      "{'layers': [300, 10], 'optimizer': 'adam'}\n",
      "Training...\n",
      "Epoch 2: early stopping\n",
      "Val Loss: 0.08990192413330078\n",
      "Val Acc:  0.975600004196167\n"
     ]
    }
   ],
   "source": [
    "import warnings\n",
    "warnings.filterwarnings(\"ignore\", category=DeprecationWarning)\n",
    "\n",
    "def make_model(layers, optimizer):\n",
    "  model = keras.models.Sequential()\n",
    "  model.add(keras.layers.Flatten(input_shape=[28, 28]))\n",
    "\n",
    "  for size in layers:\n",
    "    model.add(keras.layers.Dense(size, activation=\"relu\"))\n",
    "\n",
    "  model.add(keras.layers.Dense(10, activation=\"softmax\"))\n",
    "\n",
    "\n",
    "  model.compile(loss=\"sparse_categorical_crossentropy\",\n",
    "                optimizer=optimizer,\n",
    "                metrics=[\"accuracy\"])\n",
    "\n",
    "  return model\n",
    "\n",
    "\n",
    "cls = KerasClassifier(build_fn=make_model)\n",
    "\n",
    "\n",
    "param_grid = {\n",
    "    'layers': [[10], [20], [300, 10]],\n",
    "    'optimizer': ['sgd', 'adam'],\n",
    "}\n",
    "\n",
    "results = list()\n",
    "for params in ParameterGrid(param_grid=param_grid):\n",
    "  cls.set_params(**params)\n",
    "\n",
    "  print(params)\n",
    "\n",
    "  print('Training...')\n",
    "  history = cls.fit(X_train, y_train, epochs=100, validation_data=(X_valid, y_valid), callbacks=[EarlyStopping(verbose=1)], verbose=0)\n",
    "\n",
    "  df = pd.DataFrame(history.history)\n",
    "\n",
    "  print('Val Loss:', history.history['val_loss'][-1])\n",
    "  print('Val Acc: ', history.history['val_accuracy'][-1])\n",
    "\n",
    "\n",
    "  results.append(df)"
   ]
  },
  {
   "cell_type": "code",
   "execution_count": 32,
   "id": "834ea17c",
   "metadata": {},
   "outputs": [
    {
     "data": {
      "text/html": [
       "<div>\n",
       "<style scoped>\n",
       "    .dataframe tbody tr th:only-of-type {\n",
       "        vertical-align: middle;\n",
       "    }\n",
       "\n",
       "    .dataframe tbody tr th {\n",
       "        vertical-align: top;\n",
       "    }\n",
       "\n",
       "    .dataframe thead th {\n",
       "        text-align: right;\n",
       "    }\n",
       "</style>\n",
       "<table border=\"1\" class=\"dataframe\">\n",
       "  <thead>\n",
       "    <tr style=\"text-align: right;\">\n",
       "      <th></th>\n",
       "      <th>loss</th>\n",
       "      <th>accuracy</th>\n",
       "      <th>val_loss</th>\n",
       "      <th>val_accuracy</th>\n",
       "    </tr>\n",
       "  </thead>\n",
       "  <tbody>\n",
       "    <tr>\n",
       "      <th>0</th>\n",
       "      <td>0.918780</td>\n",
       "      <td>0.731964</td>\n",
       "      <td>0.450621</td>\n",
       "      <td>0.8802</td>\n",
       "    </tr>\n",
       "    <tr>\n",
       "      <th>1</th>\n",
       "      <td>0.411581</td>\n",
       "      <td>0.886000</td>\n",
       "      <td>0.343996</td>\n",
       "      <td>0.9072</td>\n",
       "    </tr>\n",
       "    <tr>\n",
       "      <th>0</th>\n",
       "      <td>0.613916</td>\n",
       "      <td>0.813855</td>\n",
       "      <td>0.348715</td>\n",
       "      <td>0.9042</td>\n",
       "    </tr>\n",
       "    <tr>\n",
       "      <th>1</th>\n",
       "      <td>0.334681</td>\n",
       "      <td>0.906218</td>\n",
       "      <td>0.308216</td>\n",
       "      <td>0.9176</td>\n",
       "    </tr>\n",
       "    <tr>\n",
       "      <th>0</th>\n",
       "      <td>0.720738</td>\n",
       "      <td>0.813982</td>\n",
       "      <td>0.389961</td>\n",
       "      <td>0.8968</td>\n",
       "    </tr>\n",
       "    <tr>\n",
       "      <th>1</th>\n",
       "      <td>0.375063</td>\n",
       "      <td>0.894200</td>\n",
       "      <td>0.324074</td>\n",
       "      <td>0.9104</td>\n",
       "    </tr>\n",
       "    <tr>\n",
       "      <th>0</th>\n",
       "      <td>0.431047</td>\n",
       "      <td>0.879200</td>\n",
       "      <td>0.250458</td>\n",
       "      <td>0.9288</td>\n",
       "    </tr>\n",
       "    <tr>\n",
       "      <th>1</th>\n",
       "      <td>0.236902</td>\n",
       "      <td>0.932891</td>\n",
       "      <td>0.217257</td>\n",
       "      <td>0.9378</td>\n",
       "    </tr>\n",
       "    <tr>\n",
       "      <th>0</th>\n",
       "      <td>0.840809</td>\n",
       "      <td>0.762218</td>\n",
       "      <td>0.388294</td>\n",
       "      <td>0.8918</td>\n",
       "    </tr>\n",
       "    <tr>\n",
       "      <th>1</th>\n",
       "      <td>0.344354</td>\n",
       "      <td>0.905509</td>\n",
       "      <td>0.278353</td>\n",
       "      <td>0.9242</td>\n",
       "    </tr>\n",
       "    <tr>\n",
       "      <th>0</th>\n",
       "      <td>0.304036</td>\n",
       "      <td>0.912691</td>\n",
       "      <td>0.127982</td>\n",
       "      <td>0.9622</td>\n",
       "    </tr>\n",
       "    <tr>\n",
       "      <th>1</th>\n",
       "      <td>0.108190</td>\n",
       "      <td>0.968000</td>\n",
       "      <td>0.089902</td>\n",
       "      <td>0.9756</td>\n",
       "    </tr>\n",
       "  </tbody>\n",
       "</table>\n",
       "</div>"
      ],
      "text/plain": [
       "       loss  accuracy  val_loss  val_accuracy\n",
       "0  0.918780  0.731964  0.450621        0.8802\n",
       "1  0.411581  0.886000  0.343996        0.9072\n",
       "0  0.613916  0.813855  0.348715        0.9042\n",
       "1  0.334681  0.906218  0.308216        0.9176\n",
       "0  0.720738  0.813982  0.389961        0.8968\n",
       "1  0.375063  0.894200  0.324074        0.9104\n",
       "0  0.431047  0.879200  0.250458        0.9288\n",
       "1  0.236902  0.932891  0.217257        0.9378\n",
       "0  0.840809  0.762218  0.388294        0.8918\n",
       "1  0.344354  0.905509  0.278353        0.9242\n",
       "0  0.304036  0.912691  0.127982        0.9622\n",
       "1  0.108190  0.968000  0.089902        0.9756"
      ]
     },
     "execution_count": 32,
     "metadata": {},
     "output_type": "execute_result"
    }
   ],
   "source": [
    "import pandas as pd\n",
    "\n",
    "pd.concat(results)"
   ]
  }
 ],
 "metadata": {
  "kernelspec": {
   "display_name": "Python 3 (ipykernel)",
   "language": "python",
   "name": "python3"
  },
  "language_info": {
   "codemirror_mode": {
    "name": "ipython",
    "version": 3
   },
   "file_extension": ".py",
   "mimetype": "text/x-python",
   "name": "python",
   "nbconvert_exporter": "python",
   "pygments_lexer": "ipython3",
   "version": "3.9.13"
  }
 },
 "nbformat": 4,
 "nbformat_minor": 5
}
