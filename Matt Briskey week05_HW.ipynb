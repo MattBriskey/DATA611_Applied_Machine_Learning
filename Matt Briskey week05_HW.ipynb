{
 "cells": [
  {
   "cell_type": "markdown",
   "id": "fa3938b0",
   "metadata": {},
   "source": [
    "# Homework 5, Matt Briskey"
   ]
  },
  {
   "cell_type": "markdown",
   "id": "c02a043e",
   "metadata": {},
   "source": [
    "### 1. Fill in the missing values in col1 by most frequent number (hint: strategy='most_frequent')."
   ]
  },
  {
   "cell_type": "code",
   "execution_count": 1,
   "id": "72e247fe",
   "metadata": {},
   "outputs": [
    {
     "data": {
      "text/html": [
       "<div>\n",
       "<style scoped>\n",
       "    .dataframe tbody tr th:only-of-type {\n",
       "        vertical-align: middle;\n",
       "    }\n",
       "\n",
       "    .dataframe tbody tr th {\n",
       "        vertical-align: top;\n",
       "    }\n",
       "\n",
       "    .dataframe thead th {\n",
       "        text-align: right;\n",
       "    }\n",
       "</style>\n",
       "<table border=\"1\" class=\"dataframe\">\n",
       "  <thead>\n",
       "    <tr style=\"text-align: right;\">\n",
       "      <th></th>\n",
       "      <th>col1</th>\n",
       "      <th>col2</th>\n",
       "    </tr>\n",
       "  </thead>\n",
       "  <tbody>\n",
       "    <tr>\n",
       "      <th>0</th>\n",
       "      <td>NaN</td>\n",
       "      <td>2.0</td>\n",
       "    </tr>\n",
       "    <tr>\n",
       "      <th>1</th>\n",
       "      <td>NaN</td>\n",
       "      <td>NaN</td>\n",
       "    </tr>\n",
       "    <tr>\n",
       "      <th>2</th>\n",
       "      <td>10.0</td>\n",
       "      <td>11.0</td>\n",
       "    </tr>\n",
       "    <tr>\n",
       "      <th>3</th>\n",
       "      <td>1.0</td>\n",
       "      <td>3.0</td>\n",
       "    </tr>\n",
       "    <tr>\n",
       "      <th>4</th>\n",
       "      <td>1.0</td>\n",
       "      <td>11.0</td>\n",
       "    </tr>\n",
       "  </tbody>\n",
       "</table>\n",
       "</div>"
      ],
      "text/plain": [
       "   col1  col2\n",
       "0   NaN   2.0\n",
       "1   NaN   NaN\n",
       "2  10.0  11.0\n",
       "3   1.0   3.0\n",
       "4   1.0  11.0"
      ]
     },
     "execution_count": 1,
     "metadata": {},
     "output_type": "execute_result"
    }
   ],
   "source": [
    "import pandas as pd\n",
    "from io import StringIO\n",
    "import numpy as np\n",
    "import pandas as pd\n",
    "\n",
    "csv_data = \\\n",
    "'''\n",
    "col1,col2\n",
    ",2.0\n",
    ",\n",
    "10.0,11.0\n",
    "1, 3\n",
    "1, 11\n",
    "'''\n",
    "\n",
    "df = pd.read_csv(StringIO(csv_data))\n",
    "df"
   ]
  },
  {
   "cell_type": "code",
   "execution_count": 2,
   "id": "d830eea9",
   "metadata": {},
   "outputs": [
    {
     "name": "stderr",
     "output_type": "stream",
     "text": [
      "C:\\Users\\16145\\anaconda3\\lib\\site-packages\\sklearn\\impute\\_base.py:49: FutureWarning: Unlike other reduction functions (e.g. `skew`, `kurtosis`), the default behavior of `mode` typically preserves the axis it acts along. In SciPy 1.11.0, this behavior will change: the default value of `keepdims` will become False, the `axis` over which the statistic is taken will be eliminated, and the value None will no longer be accepted. Set `keepdims` to True or False to avoid this warning.\n",
      "  mode = stats.mode(array)\n"
     ]
    },
    {
     "data": {
      "text/plain": [
       "array([[ 1.,  2.],\n",
       "       [ 1., 11.],\n",
       "       [10., 11.],\n",
       "       [ 1.,  3.],\n",
       "       [ 1., 11.]])"
      ]
     },
     "execution_count": 2,
     "metadata": {},
     "output_type": "execute_result"
    }
   ],
   "source": [
    "# impute missing values via the most frequent number\n",
    "\n",
    "from sklearn.impute import SimpleImputer\n",
    "\n",
    "imr = SimpleImputer(missing_values=np.nan, strategy='most_frequent')\n",
    "imr = imr.fit(df.values)\n",
    "imputed_data = imr.transform(df.values)\n",
    "imputed_data"
   ]
  },
  {
   "cell_type": "markdown",
   "id": "0b1a3c50",
   "metadata": {},
   "source": [
    "### 2. Explain the transformer and estimator in scikit-learn. What are the differences between them?"
   ]
  },
  {
   "cell_type": "markdown",
   "id": "e72d5629",
   "metadata": {},
   "source": [
    "Transformer are responsible for data transformations and preprocessing. They take an input dataset and apply a specific transformation to it, generating an output dataset. The goal of a transformer is to modify the data in a way that enhances its suitability for machine learning algorithms. Transformers do not make predictions or learn from the data; they solely focus on modifying the data.\n",
    "\n",
    "An estimator represents a machine learning algorithm or model. Its purpose is to learn patterns and relationships in the data to make predictions or classify new instances. Estimators take the input data and the corresponding labels and learn the underlying parameters of the model.  Once the model is trained, it can make predictions on new, unseen data.\n",
    "\n",
    "Transformers are used for data preprocessing and feature engineering, while estimators are used for learning patterns and making predictions. Transformers modify the data, while estimators learn from the data"
   ]
  },
  {
   "cell_type": "markdown",
   "id": "a30182ec",
   "metadata": {},
   "source": [
    "### 3. In the given data set below, standardize the numeric variables and generate the dummy variables for the categorical variables using one-hot encoding."
   ]
  },
  {
   "cell_type": "code",
   "execution_count": 3,
   "id": "87d147f4",
   "metadata": {
    "scrolled": true
   },
   "outputs": [
    {
     "data": {
      "text/html": [
       "<div>\n",
       "<style scoped>\n",
       "    .dataframe tbody tr th:only-of-type {\n",
       "        vertical-align: middle;\n",
       "    }\n",
       "\n",
       "    .dataframe tbody tr th {\n",
       "        vertical-align: top;\n",
       "    }\n",
       "\n",
       "    .dataframe thead th {\n",
       "        text-align: right;\n",
       "    }\n",
       "</style>\n",
       "<table border=\"1\" class=\"dataframe\">\n",
       "  <thead>\n",
       "    <tr style=\"text-align: right;\">\n",
       "      <th></th>\n",
       "      <th>col1</th>\n",
       "      <th>col2</th>\n",
       "      <th>col3</th>\n",
       "    </tr>\n",
       "  </thead>\n",
       "  <tbody>\n",
       "    <tr>\n",
       "      <th>0</th>\n",
       "      <td>0.696469</td>\n",
       "      <td>0.286139</td>\n",
       "      <td>a</td>\n",
       "    </tr>\n",
       "    <tr>\n",
       "      <th>1</th>\n",
       "      <td>0.226851</td>\n",
       "      <td>0.551315</td>\n",
       "      <td>b</td>\n",
       "    </tr>\n",
       "    <tr>\n",
       "      <th>2</th>\n",
       "      <td>0.719469</td>\n",
       "      <td>0.423106</td>\n",
       "      <td>a</td>\n",
       "    </tr>\n",
       "    <tr>\n",
       "      <th>3</th>\n",
       "      <td>0.980764</td>\n",
       "      <td>0.684830</td>\n",
       "      <td>b</td>\n",
       "    </tr>\n",
       "    <tr>\n",
       "      <th>4</th>\n",
       "      <td>0.480932</td>\n",
       "      <td>0.392118</td>\n",
       "      <td>a</td>\n",
       "    </tr>\n",
       "    <tr>\n",
       "      <th>5</th>\n",
       "      <td>0.343178</td>\n",
       "      <td>0.729050</td>\n",
       "      <td>a</td>\n",
       "    </tr>\n",
       "    <tr>\n",
       "      <th>6</th>\n",
       "      <td>0.438572</td>\n",
       "      <td>0.059678</td>\n",
       "      <td>a</td>\n",
       "    </tr>\n",
       "    <tr>\n",
       "      <th>7</th>\n",
       "      <td>0.398044</td>\n",
       "      <td>0.737995</td>\n",
       "      <td>c</td>\n",
       "    </tr>\n",
       "    <tr>\n",
       "      <th>8</th>\n",
       "      <td>0.182492</td>\n",
       "      <td>0.175452</td>\n",
       "      <td>b</td>\n",
       "    </tr>\n",
       "    <tr>\n",
       "      <th>9</th>\n",
       "      <td>0.531551</td>\n",
       "      <td>0.531828</td>\n",
       "      <td>b</td>\n",
       "    </tr>\n",
       "  </tbody>\n",
       "</table>\n",
       "</div>"
      ],
      "text/plain": [
       "       col1      col2 col3\n",
       "0  0.696469  0.286139    a\n",
       "1  0.226851  0.551315    b\n",
       "2  0.719469  0.423106    a\n",
       "3  0.980764  0.684830    b\n",
       "4  0.480932  0.392118    a\n",
       "5  0.343178  0.729050    a\n",
       "6  0.438572  0.059678    a\n",
       "7  0.398044  0.737995    c\n",
       "8  0.182492  0.175452    b\n",
       "9  0.531551  0.531828    b"
      ]
     },
     "execution_count": 3,
     "metadata": {},
     "output_type": "execute_result"
    }
   ],
   "source": [
    "import pandas as pd\n",
    "import numpy as np\n",
    "np.random.seed(123)\n",
    "\n",
    "df = pd.DataFrame(np.random.rand(10, 2),\n",
    "                 columns = ['col1', 'col2'])\n",
    "df['col3'] = list(''.join(np.random.choice(list('abc')) for _ in range(len(df))))\n",
    "df"
   ]
  },
  {
   "cell_type": "code",
   "execution_count": 4,
   "id": "581ad6d3",
   "metadata": {},
   "outputs": [
    {
     "name": "stdout",
     "output_type": "stream",
     "text": [
      "       col1      col2  b  c\n",
      "0  0.696469  0.286139  0  0\n",
      "1  0.226851  0.551315  1  0\n",
      "2  0.719469  0.423106  0  0\n",
      "3  0.980764  0.684830  1  0\n",
      "4  0.480932  0.392118  0  0\n",
      "5  0.343178  0.729050  0  0\n",
      "6  0.438572  0.059678  0  0\n",
      "7  0.398044  0.737995  0  1\n",
      "8  0.182492  0.175452  1  0\n",
      "9  0.531551  0.531828  1  0\n"
     ]
    }
   ],
   "source": [
    "import pandas as pd\n",
    "\n",
    "# Apply one-hot encoding using pd.get_dummies(), drop_first = true guards against multicollinearity\n",
    "onehot_data = pd.get_dummies(df['col3'], drop_first=True)\n",
    "\n",
    "# Drop the original 'col3' column\n",
    "df = df.drop('col3', axis=1)\n",
    "\n",
    "# Concatenate the encoded data with the original DataFrame\n",
    "df_encoded = pd.concat([df, onehot_data], axis=1)\n",
    "\n",
    "# Print the resulting DataFrame\n",
    "print(df_encoded)"
   ]
  },
  {
   "cell_type": "code",
   "execution_count": 5,
   "id": "e75d083c",
   "metadata": {},
   "outputs": [
    {
     "data": {
      "text/plain": [
       "array([[ 0.85137511, -0.77172075, -0.81649658, -0.33333333],\n",
       "       [-1.18192049,  0.42493074,  1.22474487, -0.33333333],\n",
       "       [ 0.95095687, -0.15363214, -0.81649658, -0.33333333],\n",
       "       [ 2.0822822 ,  1.02744088,  1.22474487, -0.33333333],\n",
       "       [-0.08183286, -0.29347528, -0.81649658, -0.33333333],\n",
       "       [-0.67826343,  1.22699138, -0.81649658, -0.33333333],\n",
       "       [-0.26523672, -1.79366842, -0.81649658, -0.33333333],\n",
       "       [-0.44071004,  1.26736044, -0.81649658,  3.        ],\n",
       "       [-1.373984  , -1.27121821,  1.22474487, -0.33333333],\n",
       "       [ 0.13733337,  0.33699135,  1.22474487, -0.33333333]])"
      ]
     },
     "execution_count": 5,
     "metadata": {},
     "output_type": "execute_result"
    }
   ],
   "source": [
    "# standardize the data\n",
    "\n",
    "from sklearn.preprocessing import StandardScaler\n",
    "\n",
    "stdsc = StandardScaler()\n",
    "df_std = stdsc.fit_transform(df_encoded)\n",
    "df_std"
   ]
  },
  {
   "cell_type": "markdown",
   "id": "bf18ce9f",
   "metadata": {},
   "source": [
    "### 4. Assume col3 is the target, separate the original data set in #3 into 80% training and 20% test."
   ]
  },
  {
   "cell_type": "code",
   "execution_count": 6,
   "id": "10964db2",
   "metadata": {},
   "outputs": [
    {
     "data": {
      "text/html": [
       "<div>\n",
       "<style scoped>\n",
       "    .dataframe tbody tr th:only-of-type {\n",
       "        vertical-align: middle;\n",
       "    }\n",
       "\n",
       "    .dataframe tbody tr th {\n",
       "        vertical-align: top;\n",
       "    }\n",
       "\n",
       "    .dataframe thead th {\n",
       "        text-align: right;\n",
       "    }\n",
       "</style>\n",
       "<table border=\"1\" class=\"dataframe\">\n",
       "  <thead>\n",
       "    <tr style=\"text-align: right;\">\n",
       "      <th></th>\n",
       "      <th>col1</th>\n",
       "      <th>col2</th>\n",
       "      <th>col3</th>\n",
       "    </tr>\n",
       "  </thead>\n",
       "  <tbody>\n",
       "    <tr>\n",
       "      <th>0</th>\n",
       "      <td>0.696469</td>\n",
       "      <td>0.286139</td>\n",
       "      <td>a</td>\n",
       "    </tr>\n",
       "    <tr>\n",
       "      <th>1</th>\n",
       "      <td>0.226851</td>\n",
       "      <td>0.551315</td>\n",
       "      <td>b</td>\n",
       "    </tr>\n",
       "    <tr>\n",
       "      <th>2</th>\n",
       "      <td>0.719469</td>\n",
       "      <td>0.423106</td>\n",
       "      <td>a</td>\n",
       "    </tr>\n",
       "    <tr>\n",
       "      <th>3</th>\n",
       "      <td>0.980764</td>\n",
       "      <td>0.684830</td>\n",
       "      <td>b</td>\n",
       "    </tr>\n",
       "    <tr>\n",
       "      <th>4</th>\n",
       "      <td>0.480932</td>\n",
       "      <td>0.392118</td>\n",
       "      <td>a</td>\n",
       "    </tr>\n",
       "    <tr>\n",
       "      <th>5</th>\n",
       "      <td>0.343178</td>\n",
       "      <td>0.729050</td>\n",
       "      <td>a</td>\n",
       "    </tr>\n",
       "    <tr>\n",
       "      <th>6</th>\n",
       "      <td>0.438572</td>\n",
       "      <td>0.059678</td>\n",
       "      <td>a</td>\n",
       "    </tr>\n",
       "    <tr>\n",
       "      <th>7</th>\n",
       "      <td>0.398044</td>\n",
       "      <td>0.737995</td>\n",
       "      <td>c</td>\n",
       "    </tr>\n",
       "    <tr>\n",
       "      <th>8</th>\n",
       "      <td>0.182492</td>\n",
       "      <td>0.175452</td>\n",
       "      <td>b</td>\n",
       "    </tr>\n",
       "    <tr>\n",
       "      <th>9</th>\n",
       "      <td>0.531551</td>\n",
       "      <td>0.531828</td>\n",
       "      <td>b</td>\n",
       "    </tr>\n",
       "  </tbody>\n",
       "</table>\n",
       "</div>"
      ],
      "text/plain": [
       "       col1      col2 col3\n",
       "0  0.696469  0.286139    a\n",
       "1  0.226851  0.551315    b\n",
       "2  0.719469  0.423106    a\n",
       "3  0.980764  0.684830    b\n",
       "4  0.480932  0.392118    a\n",
       "5  0.343178  0.729050    a\n",
       "6  0.438572  0.059678    a\n",
       "7  0.398044  0.737995    c\n",
       "8  0.182492  0.175452    b\n",
       "9  0.531551  0.531828    b"
      ]
     },
     "execution_count": 6,
     "metadata": {},
     "output_type": "execute_result"
    }
   ],
   "source": [
    "import pandas as pd\n",
    "import numpy as np\n",
    "np.random.seed(123)\n",
    "\n",
    "df = pd.DataFrame(np.random.rand(10, 2),\n",
    "                 columns = ['col1', 'col2'])\n",
    "df['col3'] = list(''.join(np.random.choice(list('abc')) for _ in range(len(df))))\n",
    "df"
   ]
  },
  {
   "cell_type": "code",
   "execution_count": 7,
   "id": "7d20c6b8",
   "metadata": {
    "scrolled": true
   },
   "outputs": [],
   "source": [
    "from sklearn.model_selection import train_test_split\n",
    "\n",
    "# Separate the features and target variable\n",
    "X = df[['col1', 'col2']]  # Features\n",
    "y = df['col3']            # Target variable\n",
    "\n",
    "# Split the dataset into 80% training and 20% test\n",
    "X_train, X_test, y_train, y_test = train_test_split(X, y, test_size=0.2, random_state=123)"
   ]
  },
  {
   "cell_type": "code",
   "execution_count": 8,
   "id": "9d9d1988",
   "metadata": {},
   "outputs": [
    {
     "name": "stdout",
     "output_type": "stream",
     "text": [
      "Training data - X_train shape: (8, 2)\n",
      "Training data - y_train shape: (8,)\n",
      "Test data - X_test shape: (2, 2)\n",
      "Test data - y_test shape: (2,)\n"
     ]
    }
   ],
   "source": [
    "# Print the shapes of the resulting datasets\n",
    "print(\"Training data - X_train shape:\", X_train.shape)\n",
    "print(\"Training data - y_train shape:\", y_train.shape)\n",
    "print(\"Test data - X_test shape:\", X_test.shape)\n",
    "print(\"Test data - y_test shape:\", y_test.shape)"
   ]
  },
  {
   "cell_type": "markdown",
   "id": "3ff31873",
   "metadata": {},
   "source": [
    "### 5. Load scikit-learn's diabetes data set by load_diabetes(), pick the top 3 most discriminative features using Random Forest."
   ]
  },
  {
   "cell_type": "code",
   "execution_count": 18,
   "id": "d665ba62",
   "metadata": {},
   "outputs": [],
   "source": [
    "from sklearn import datasets\n",
    "diabetes = datasets.load_diabetes()\n",
    "X = diabetes.data\n",
    "y = diabetes.target"
   ]
  },
  {
   "cell_type": "code",
   "execution_count": 25,
   "id": "cc00f04b",
   "metadata": {},
   "outputs": [
    {
     "name": "stdout",
     "output_type": "stream",
     "text": [
      "Top 3 Most Discriminative Features:\n",
      "s5\n",
      "bmi\n",
      "bp\n"
     ]
    }
   ],
   "source": [
    "from sklearn.datasets import load_diabetes\n",
    "from sklearn.ensemble import RandomForestRegressor\n",
    "from sklearn import datasets\n",
    "\n",
    "# Load the data\n",
    "diabetes = datasets.load_diabetes()\n",
    "X = diabetes.data\n",
    "y = diabetes.target\n",
    "\n",
    "# Create a Random Forest Regressor\n",
    "rf = RandomForestRegressor(random_state=123)\n",
    "\n",
    "# Fit the Random Forest model\n",
    "rf.fit(X, y)\n",
    "\n",
    "# Get the feature importances\n",
    "feature_importances = rf.feature_importances_\n",
    "\n",
    "# Sort the feature importances in descending order\n",
    "sorted_indices = feature_importances.argsort()[::-1]\n",
    "\n",
    "# Select the top 3 most discriminative features\n",
    "top_feature_indices = sorted_indices[:3]\n",
    "top_features = [diabetes.feature_names[i] for i in top_feature_indices]\n",
    "\n",
    "# Print the top 3 features\n",
    "print(\"Top 3 Most Discriminative Features:\")\n",
    "for feature in top_features:\n",
    "    print(feature)\n"
   ]
  }
 ],
 "metadata": {
  "kernelspec": {
   "display_name": "Python 3 (ipykernel)",
   "language": "python",
   "name": "python3"
  },
  "language_info": {
   "codemirror_mode": {
    "name": "ipython",
    "version": 3
   },
   "file_extension": ".py",
   "mimetype": "text/x-python",
   "name": "python",
   "nbconvert_exporter": "python",
   "pygments_lexer": "ipython3",
   "version": "3.9.13"
  }
 },
 "nbformat": 4,
 "nbformat_minor": 5
}
