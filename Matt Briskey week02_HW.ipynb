{
 "cells": [
  {
   "cell_type": "markdown",
   "id": "dde1ffd0",
   "metadata": {},
   "source": [
    "# Homework Week 2"
   ]
  },
  {
   "cell_type": "markdown",
   "id": "5e7bd698",
   "metadata": {},
   "source": [
    "### 1. Explain features and targets."
   ]
  },
  {
   "cell_type": "markdown",
   "id": "55c948ae",
   "metadata": {},
   "source": [
    "Features are the input variables that are used to make predictions.  Targets are the response variables that the features try to predict.  We try to find relationships between features and targets so that we can predict outcomes."
   ]
  },
  {
   "cell_type": "markdown",
   "id": "c2f51028",
   "metadata": {},
   "source": [
    "### 2. What is the difference between the supervised learning and unsupervised learning?"
   ]
  },
  {
   "cell_type": "markdown",
   "id": "57d746d5",
   "metadata": {},
   "source": [
    "The goal of supervised learning is to create a model using labeled data that allows us to make predictions about future data.  In supervised learning, the outputs are already known.  Unsupervised learning uses unlabeled data or data of an unknown structure.  Unsupervised learning allows us to explore the structure of our data to extract meaningful information without a known outcome already established."
   ]
  },
  {
   "cell_type": "markdown",
   "id": "935e4ea1",
   "metadata": {},
   "source": [
    "### 3. What is the difference between the classification and regression? Define a specific classification problem and a regression problem that you may be interested in."
   ]
  },
  {
   "cell_type": "markdown",
   "id": "820628f0",
   "metadata": {},
   "source": [
    "Classification and regression are both types of supervised learning. Classification involves predicting a categorical target variable. For example, classification can be used to predict whether an email is spam or not spam. Regression involves predicting a continuous target variable. For example, regression can be used to predict the price of a house based on its features (square feet, number of bedrooms, etc). "
   ]
  },
  {
   "cell_type": "markdown",
   "id": "a74d8735",
   "metadata": {},
   "source": [
    "### 4. Describe the roadmap of building a machine learning system."
   ]
  },
  {
   "cell_type": "markdown",
   "id": "635ee136",
   "metadata": {},
   "source": [
    "There are multiple steps to build a machine learning system:\n",
    "- Preprocessing: this involves collecting the data that will be used in the model and randomly dividing it into a training dataset and a testing dataset\n",
    "- Learning: Using training data to adjust your model's parameters to minimize its error.  This also involves selecting a model, doing cross validation, and deciding on performance metrics that will be used to evaluate models.\n",
    "- Evaluation: Using the test dataset to estimate how well it performs on unseen data to estimate the generalization error. If we are satisfied with its performance, we can now use this model to predict new, future data\n",
    "- Prediction:  Implement your model in its intended environment, where it can take in new data and make predictions on new data"
   ]
  },
  {
   "cell_type": "markdown",
   "id": "033dc938",
   "metadata": {},
   "source": [
    "### 5. In the iris data set, explain what are $x^{(3)}$, $x_3$, and $x^{(3)}_3$?"
   ]
  },
  {
   "cell_type": "markdown",
   "id": "65278e54",
   "metadata": {},
   "source": [
    "- $x^{(3)}$ refers to the third sample/observation in the dataset where each observation is a different row so this is the third row of the dataset\n",
    "- $x_3$ refers to the third feature/attribute of the dataset.  In the Iris datset, the attributes are Sepal Length, Sepal Width, Petal Length, etc so the third attribute is Petal Length\n",
    "- $x^{(3)}_3$ is the intersection of the third row and third column (third attribute of the third observation).  This is the Petal Length of the third observation/row. \n"
   ]
  },
  {
   "cell_type": "markdown",
   "id": "1d4e65f6",
   "metadata": {},
   "source": [
    "### 6. Let **w** and **x** be vectors, \n",
    "\n",
    "$$\n",
    "\\textbf{w} = \\begin{bmatrix}\n",
    "1 \\\\\n",
    "3 \\\\\n",
    "-1 \\\\\n",
    "\\end{bmatrix}\n",
    "$$\n",
    "\n",
    "$$\n",
    "\\textbf{x} = \\begin{bmatrix}\n",
    "2 \\\\\n",
    "3 \\\\\n",
    "4 \\\\\n",
    "\\end{bmatrix}\n",
    "$$\n",
    "\n",
    "What is $\\textbf{w}^{T}\\textbf{x}$? "
   ]
  },
  {
   "cell_type": "markdown",
   "id": "2547d277",
   "metadata": {},
   "source": [
    "- To calculate the dot product between two vectors, you multiply the corresponding elements of the vectors and then sum them up\n",
    "$\\textbf{w}^{T}\\$ represents the transpose of w. Since w is a column vector, its transpose is a row vector\n",
    "\n",
    "- To calculate the dot product, you multiply the corresponding elements of $\\textbf{w}^{T}\\$ and **x** and sum them up:\n",
    "- (1 * 2)+(3 * 3)+(-1 * 4) = 2 + 9- 4 = 7"
   ]
  },
  {
   "cell_type": "markdown",
   "id": "5dc06f89",
   "metadata": {},
   "source": [
    "### 7. Using Numpy create and print **w** and **x** in #7; calculate the $\\textbf{w}^{T}\\textbf{x}$ to check your previous answer."
   ]
  },
  {
   "cell_type": "code",
   "execution_count": 1,
   "id": "92a5064c",
   "metadata": {},
   "outputs": [
    {
     "name": "stdout",
     "output_type": "stream",
     "text": [
      "w = [ 1  3 -1]\n",
      "x = [2 3 4]\n"
     ]
    }
   ],
   "source": [
    "import numpy as np\n",
    "\n",
    "w = np.array([1, 3, -1])\n",
    "x = np.array([2, 3, 4])\n",
    "\n",
    "print(\"w =\", w)\n",
    "print(\"x =\", x)\n"
   ]
  },
  {
   "cell_type": "code",
   "execution_count": 2,
   "id": "7b1b8bb8",
   "metadata": {},
   "outputs": [
    {
     "name": "stdout",
     "output_type": "stream",
     "text": [
      "w^T * x = 7\n"
     ]
    }
   ],
   "source": [
    "dot_product = np.dot(w, x)\n",
    "\n",
    "print(\"w^T * x =\", dot_product)\n"
   ]
  }
 ],
 "metadata": {
  "kernelspec": {
   "display_name": "Python 3 (ipykernel)",
   "language": "python",
   "name": "python3"
  },
  "language_info": {
   "codemirror_mode": {
    "name": "ipython",
    "version": 3
   },
   "file_extension": ".py",
   "mimetype": "text/x-python",
   "name": "python",
   "nbconvert_exporter": "python",
   "pygments_lexer": "ipython3",
   "version": "3.9.13"
  }
 },
 "nbformat": 4,
 "nbformat_minor": 5
}
