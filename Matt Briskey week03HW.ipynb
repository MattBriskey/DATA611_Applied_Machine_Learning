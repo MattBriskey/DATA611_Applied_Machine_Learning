{
 "cells": [
  {
   "cell_type": "markdown",
   "id": "641c8517",
   "metadata": {},
   "source": [
    "# Homework 03"
   ]
  },
  {
   "cell_type": "markdown",
   "id": "ddb81efc",
   "metadata": {},
   "source": [
    "## Matt Briskey"
   ]
  },
  {
   "cell_type": "markdown",
   "id": "92ed9b7e",
   "metadata": {},
   "source": [
    "### 1. Load the Given data set fruit.csv, which contains the samples of fruit's mass, height, and name.\n",
    "\n",
    "https://raw.githubusercontent.com/franklin-univ-data-science/data/master/fruit.csv\n",
    "\n",
    "columns:\n",
    "\n",
    "fruit name: mandarin, apple, lemon\n",
    "mass\n",
    "height"
   ]
  },
  {
   "cell_type": "code",
   "execution_count": 1,
   "id": "9dbad607",
   "metadata": {},
   "outputs": [],
   "source": [
    "# Import pandas and load the olympics.csv.\n",
    "import pandas as pd\n",
    "\n",
    "df = pd.read_csv('https://raw.githubusercontent.com/franklin-univ-data-science/data/master/fruit.csv')"
   ]
  },
  {
   "cell_type": "code",
   "execution_count": 2,
   "id": "aac4d8e1",
   "metadata": {
    "scrolled": false
   },
   "outputs": [
    {
     "data": {
      "text/html": [
       "<div>\n",
       "<style scoped>\n",
       "    .dataframe tbody tr th:only-of-type {\n",
       "        vertical-align: middle;\n",
       "    }\n",
       "\n",
       "    .dataframe tbody tr th {\n",
       "        vertical-align: top;\n",
       "    }\n",
       "\n",
       "    .dataframe thead th {\n",
       "        text-align: right;\n",
       "    }\n",
       "</style>\n",
       "<table border=\"1\" class=\"dataframe\">\n",
       "  <thead>\n",
       "    <tr style=\"text-align: right;\">\n",
       "      <th></th>\n",
       "      <th>fruit_name</th>\n",
       "      <th>mass</th>\n",
       "      <th>height</th>\n",
       "    </tr>\n",
       "  </thead>\n",
       "  <tbody>\n",
       "    <tr>\n",
       "      <th>0</th>\n",
       "      <td>lemon</td>\n",
       "      <td>116</td>\n",
       "      <td>7.9</td>\n",
       "    </tr>\n",
       "    <tr>\n",
       "      <th>1</th>\n",
       "      <td>lemon</td>\n",
       "      <td>116</td>\n",
       "      <td>8.5</td>\n",
       "    </tr>\n",
       "    <tr>\n",
       "      <th>2</th>\n",
       "      <td>lemon</td>\n",
       "      <td>116</td>\n",
       "      <td>8.0</td>\n",
       "    </tr>\n",
       "    <tr>\n",
       "      <th>3</th>\n",
       "      <td>lemon</td>\n",
       "      <td>116</td>\n",
       "      <td>8.1</td>\n",
       "    </tr>\n",
       "    <tr>\n",
       "      <th>4</th>\n",
       "      <td>lemon</td>\n",
       "      <td>118</td>\n",
       "      <td>8.0</td>\n",
       "    </tr>\n",
       "    <tr>\n",
       "      <th>5</th>\n",
       "      <td>lemon</td>\n",
       "      <td>118</td>\n",
       "      <td>8.1</td>\n",
       "    </tr>\n",
       "    <tr>\n",
       "      <th>6</th>\n",
       "      <td>lemon</td>\n",
       "      <td>120</td>\n",
       "      <td>8.4</td>\n",
       "    </tr>\n",
       "    <tr>\n",
       "      <th>7</th>\n",
       "      <td>lemon</td>\n",
       "      <td>130</td>\n",
       "      <td>8.2</td>\n",
       "    </tr>\n",
       "    <tr>\n",
       "      <th>8</th>\n",
       "      <td>lemon</td>\n",
       "      <td>132</td>\n",
       "      <td>8.7</td>\n",
       "    </tr>\n",
       "    <tr>\n",
       "      <th>9</th>\n",
       "      <td>lemon</td>\n",
       "      <td>152</td>\n",
       "      <td>9.0</td>\n",
       "    </tr>\n",
       "  </tbody>\n",
       "</table>\n",
       "</div>"
      ],
      "text/plain": [
       "  fruit_name  mass  height\n",
       "0      lemon   116     7.9\n",
       "1      lemon   116     8.5\n",
       "2      lemon   116     8.0\n",
       "3      lemon   116     8.1\n",
       "4      lemon   118     8.0\n",
       "5      lemon   118     8.1\n",
       "6      lemon   120     8.4\n",
       "7      lemon   130     8.2\n",
       "8      lemon   132     8.7\n",
       "9      lemon   152     9.0"
      ]
     },
     "execution_count": 2,
     "metadata": {},
     "output_type": "execute_result"
    }
   ],
   "source": [
    "df.head(10) # Show the first 10 rows"
   ]
  },
  {
   "cell_type": "code",
   "execution_count": 3,
   "id": "f7ef040a",
   "metadata": {
    "scrolled": true
   },
   "outputs": [
    {
     "data": {
      "text/plain": [
       "apple       19\n",
       "lemon       16\n",
       "mandarin     5\n",
       "Name: fruit_name, dtype: int64"
      ]
     },
     "execution_count": 3,
     "metadata": {},
     "output_type": "execute_result"
    }
   ],
   "source": [
    "df['fruit_name'].value_counts() # Get a count of each fruit in the dataframe"
   ]
  },
  {
   "cell_type": "code",
   "execution_count": 4,
   "id": "608f86ba",
   "metadata": {},
   "outputs": [
    {
     "name": "stdout",
     "output_type": "stream",
     "text": [
      "Row count is: 40\n"
     ]
    }
   ],
   "source": [
    "print('Row count is:', len(df)) # print the number of rows"
   ]
  },
  {
   "cell_type": "markdown",
   "id": "d457b6ed",
   "metadata": {},
   "source": [
    "### 2. Define the features as mass and height, and the target as the variable \"isLemon\", which is derived by yourself (if fruit is lemon then 1 else -1). Print the feature matrix and target vector, respectively."
   ]
  },
  {
   "cell_type": "code",
   "execution_count": 5,
   "id": "1da6c939",
   "metadata": {},
   "outputs": [
    {
     "name": "stdout",
     "output_type": "stream",
     "text": [
      "Feature Matrix:\n"
     ]
    },
    {
     "data": {
      "text/plain": [
       "array([[116. ,   7.9],\n",
       "       [116. ,   8.5],\n",
       "       [116. ,   8. ],\n",
       "       [116. ,   8.1],\n",
       "       [118. ,   8. ],\n",
       "       [118. ,   8.1],\n",
       "       [120. ,   8.4],\n",
       "       [130. ,   8.2],\n",
       "       [132. ,   8.7],\n",
       "       [152. ,   9. ],\n",
       "       [174. ,  10.1],\n",
       "       [186. ,   9.2],\n",
       "       [194. ,  10.3],\n",
       "       [196. ,   9.7],\n",
       "       [200. ,  10.5],\n",
       "       [216. ,  10.2],\n",
       "       [140. ,   7.1],\n",
       "       [152. ,   7.3],\n",
       "       [154. ,   7.1],\n",
       "       [156. ,   7.1],\n",
       "       [156. ,   7.5],\n",
       "       [156. ,   7.4],\n",
       "       [160. ,   7.5],\n",
       "       [162. ,   7.1],\n",
       "       [162. ,   7.2],\n",
       "       [164. ,   7.7],\n",
       "       [166. ,   7.3],\n",
       "       [168. ,   7.6],\n",
       "       [170. ,   7.9],\n",
       "       [172. ,   7. ],\n",
       "       [172. ,   7.6],\n",
       "       [176. ,   7.2],\n",
       "       [178. ,   7.8],\n",
       "       [180. ,   6.8],\n",
       "       [192. ,   7.3],\n",
       "       [ 76. ,   4. ],\n",
       "       [ 80. ,   4.3],\n",
       "       [ 80. ,   4.3],\n",
       "       [ 84. ,   4.6],\n",
       "       [ 86. ,   4.7]])"
      ]
     },
     "execution_count": 5,
     "metadata": {},
     "output_type": "execute_result"
    }
   ],
   "source": [
    "import matplotlib.pyplot as plt\n",
    "import numpy as np\n",
    "%matplotlib inline\n",
    "\n",
    "# define feature matrix X\n",
    "X = df.iloc[0:40, [1, 2]].values # extract the columns of mass and height\n",
    "\n",
    "print(\"Feature Matrix:\")\n",
    "X # print the feature vector which shows mass and height"
   ]
  },
  {
   "cell_type": "code",
   "execution_count": 6,
   "id": "cb5af41e",
   "metadata": {},
   "outputs": [
    {
     "name": "stdout",
     "output_type": "stream",
     "text": [
      "Target Vector:\n"
     ]
    },
    {
     "data": {
      "text/plain": [
       "array([ 1,  1,  1,  1,  1,  1,  1,  1,  1,  1,  1,  1,  1,  1,  1,  1, -1,\n",
       "       -1, -1, -1, -1, -1, -1, -1, -1, -1, -1, -1, -1, -1, -1, -1, -1, -1,\n",
       "       -1, -1, -1, -1, -1, -1])"
      ]
     },
     "execution_count": 6,
     "metadata": {},
     "output_type": "execute_result"
    }
   ],
   "source": [
    "# define target vector isLemon\n",
    "isLemon = df.iloc[0:40, 0].values # select the label column in first 100 instances, which have setosa and versicolor\n",
    "\n",
    "isLemon = np.where(isLemon == 'lemon', 1, -1) # define the target (isLemon as 1, notLemon as 1)\n",
    "\n",
    "print(\"Target Vector:\")\n",
    "isLemon # print the target vector"
   ]
  },
  {
   "cell_type": "markdown",
   "id": "a23ac584",
   "metadata": {},
   "source": [
    "### 3. Draw a scatter plot of the binary classification (isLemon) by two features (mass, height)."
   ]
  },
  {
   "cell_type": "code",
   "execution_count": 7,
   "id": "c6850fd7",
   "metadata": {},
   "outputs": [
    {
     "data": {
      "image/png": "[encoded data removed]",
      "text/plain": [
       "<Figure size 700x700 with 1 Axes>"
      ]
     },
     "metadata": {},
     "output_type": "display_data"
    }
   ],
   "source": [
    "# Make the plot a little larger\n",
    "f = plt.figure()\n",
    "f.set_figwidth(7)\n",
    "f.set_figheight(7)\n",
    "\n",
    "# plot data\n",
    "plt.scatter(X[:16, 0], X[:16, 1],\n",
    "            color='orange', marker='o', label='isLemon')\n",
    "plt.scatter(X[16:40, 0], X[16:40, 1],\n",
    "            color='green', marker='x', label='notLemon')\n",
    "\n",
    "plt.xlabel('mass')\n",
    "plt.ylabel('height')\n",
    "plt.legend(loc='upper left')\n",
    "\n",
    "\n",
    "plt.show()"
   ]
  },
  {
   "cell_type": "markdown",
   "id": "c38ede01",
   "metadata": {},
   "source": [
    "4. ### Add x0 vector to the feature matrix X. Apply the perceptron algorithm to predict the classification (isLemon). What is the smallest number of misclassified samples you can get? (hint: try a very large number of epoch because the optimization of our current perceptron method is not efficient)"
   ]
  },
  {
   "cell_type": "code",
   "execution_count": 8,
   "id": "0f43f5c5",
   "metadata": {},
   "outputs": [],
   "source": [
    "#define the Perceptron interface as a class\n",
    "class Perceptron():\n",
    "    \"\"\"Perceptron classifier.\n",
    "\n",
    "    Parameters\n",
    "    ------------\n",
    "    eta : float\n",
    "      Learning rate (between 0.0 and 1.0)\n",
    "    n_iter : int\n",
    "      Passes over the training dataset.\n",
    "    random_state : int\n",
    "      Random number generator seed for random weight\n",
    "      initialization.\n",
    "\n",
    "    Attributes\n",
    "    -----------\n",
    "    w_ : 1d-array\n",
    "      Weights after fitting.\n",
    "    errors_ : list\n",
    "      Number of misclassifications (updates) in each epoch.\n",
    "\n",
    "    \"\"\"\n",
    "    def __init__(self, eta=0.01, n_iter=50, random_state=1):\n",
    "        self.eta = eta\n",
    "        self.n_iter = n_iter\n",
    "        self.random_state = random_state\n",
    "\n",
    "    def fit(self, X, y):\n",
    "        \"\"\"Fit training data.\n",
    "\n",
    "        Parameters\n",
    "        ----------\n",
    "        X : {array-like}, shape = [n_samples, n_features]\n",
    "          Training vectors, where n_samples is the number of samples and\n",
    "          n_features is the number of features.\n",
    "        y : array-like, shape = [n_samples]\n",
    "          Target values.\n",
    "\n",
    "        Returns\n",
    "        -------\n",
    "        self : object\n",
    "\n",
    "        \"\"\"\n",
    "        #initialize the weights\n",
    "        rgen = np.random.RandomState(self.random_state)      #rgen is a NumPy random number generator seeded with a user-specified random seed so that we can reproduce previous results\n",
    "        self.w_ = rgen.normal(loc=0.0, scale=0.01, size=X.shape[1]) # get the initial weight\n",
    "        self.errors_ = []\n",
    "\n",
    "        for _ in range(self.n_iter):  # Loop over number of iterations\n",
    "            errors = 0\n",
    "            for xi, target in zip(X, y):  # Loop over the samples\n",
    "                update = self.eta * (target - self.predict(xi))\n",
    "                self.w_ += update * xi\n",
    "                errors += int(update != 0.0)\n",
    "            self.errors_.append(errors)\n",
    "        return self\n",
    "\n",
    "    def net_input(self, X):\n",
    "        \"\"\"Calculate net input\"\"\"\n",
    "        return X @ self.w_\n",
    "  \n",
    "\n",
    "    def predict(self, X):\n",
    "        \"\"\"Return class label after unit step\"\"\"\n",
    "        return np.where(self.net_input(X) >= 0.0, 1, -1)"
   ]
  },
  {
   "cell_type": "code",
   "execution_count": 9,
   "id": "f833c7c6",
   "metadata": {},
   "outputs": [
    {
     "data": {
      "text/plain": [
       "array([[  1. , 116. ,   7.9],\n",
       "       [  1. , 116. ,   8.5],\n",
       "       [  1. , 116. ,   8. ],\n",
       "       [  1. , 116. ,   8.1],\n",
       "       [  1. , 118. ,   8. ],\n",
       "       [  1. , 118. ,   8.1],\n",
       "       [  1. , 120. ,   8.4],\n",
       "       [  1. , 130. ,   8.2],\n",
       "       [  1. , 132. ,   8.7],\n",
       "       [  1. , 152. ,   9. ],\n",
       "       [  1. , 174. ,  10.1],\n",
       "       [  1. , 186. ,   9.2],\n",
       "       [  1. , 194. ,  10.3],\n",
       "       [  1. , 196. ,   9.7],\n",
       "       [  1. , 200. ,  10.5],\n",
       "       [  1. , 216. ,  10.2],\n",
       "       [  1. , 140. ,   7.1],\n",
       "       [  1. , 152. ,   7.3],\n",
       "       [  1. , 154. ,   7.1],\n",
       "       [  1. , 156. ,   7.1],\n",
       "       [  1. , 156. ,   7.5],\n",
       "       [  1. , 156. ,   7.4],\n",
       "       [  1. , 160. ,   7.5],\n",
       "       [  1. , 162. ,   7.1],\n",
       "       [  1. , 162. ,   7.2],\n",
       "       [  1. , 164. ,   7.7],\n",
       "       [  1. , 166. ,   7.3],\n",
       "       [  1. , 168. ,   7.6],\n",
       "       [  1. , 170. ,   7.9],\n",
       "       [  1. , 172. ,   7. ],\n",
       "       [  1. , 172. ,   7.6],\n",
       "       [  1. , 176. ,   7.2],\n",
       "       [  1. , 178. ,   7.8],\n",
       "       [  1. , 180. ,   6.8],\n",
       "       [  1. , 192. ,   7.3],\n",
       "       [  1. ,  76. ,   4. ],\n",
       "       [  1. ,  80. ,   4.3],\n",
       "       [  1. ,  80. ,   4.3],\n",
       "       [  1. ,  84. ,   4.6],\n",
       "       [  1. ,  86. ,   4.7]])"
      ]
     },
     "execution_count": 9,
     "metadata": {},
     "output_type": "execute_result"
    }
   ],
   "source": [
    "# in X1, add x0 to feature matrix X (vector with all elements as 1) that represent the bias unit - w_[0] \n",
    "m = isLemon.size\n",
    "vector_ones = np.ones(m).reshape(m, 1)\n",
    "\n",
    "X1 = np.hstack([vector_ones, X])  # joining NumPy arrays by axes - stacking along rows\n",
    "\n",
    "X1"
   ]
  },
  {
   "cell_type": "code",
   "execution_count": 10,
   "id": "2c871fa5",
   "metadata": {
    "scrolled": false
   },
   "outputs": [
    {
     "data": {
      "image/png": "[encoded data removed]",
      "text/plain": [
       "<Figure size 640x480 with 1 Axes>"
      ]
     },
     "metadata": {},
     "output_type": "display_data"
    }
   ],
   "source": [
    "# train the perceptron algorithm on the data subset extracted\n",
    "ppn = Perceptron(eta=0.1, n_iter=90000, random_state=1)\n",
    "\n",
    "ppn.fit(X1, isLemon)\n",
    "\n",
    "# plot the misclassification error for each epoch to check whether the algorithm converged\n",
    "# and found a decision boundary that separates the two Iris flower classes\n",
    "plt.plot(range(1, ppn.n_iter + 1), ppn.errors_, marker='o')\n",
    "plt.xlabel('Epochs')\n",
    "plt.ylabel('Number of updates')\n",
    "\n",
    "plt.show()"
   ]
  },
  {
   "cell_type": "code",
   "execution_count": 11,
   "id": "36b3b979",
   "metadata": {},
   "outputs": [
    {
     "name": "stdout",
     "output_type": "stream",
     "text": [
      "Misclassified samples: 0\n"
     ]
    }
   ],
   "source": [
    "# Check the misclassified samples\n",
    "\n",
    "isLemon_pred = ppn.predict(X1)\n",
    "\n",
    "print('Misclassified samples: %d' % (isLemon != isLemon_pred).sum())"
   ]
  }
 ],
 "metadata": {
  "kernelspec": {
   "display_name": "Python 3 (ipykernel)",
   "language": "python",
   "name": "python3"
  },
  "language_info": {
   "codemirror_mode": {
    "name": "ipython",
    "version": 3
   },
   "file_extension": ".py",
   "mimetype": "text/x-python",
   "name": "python",
   "nbconvert_exporter": "python",
   "pygments_lexer": "ipython3",
   "version": "3.9.13"
  }
 },
 "nbformat": 4,
 "nbformat_minor": 5
}
